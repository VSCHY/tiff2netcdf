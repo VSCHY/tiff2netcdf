{
 "cells": [
  {
   "cell_type": "code",
   "execution_count": 1,
   "id": "7222184d",
   "metadata": {},
   "outputs": [],
   "source": [
    "from netCDF4 import Dataset\n",
    "import xarray as xr \n",
    "dire = \"GDP_2015_ERA5.nc\""
   ]
  },
  {
   "cell_type": "code",
   "execution_count": 4,
   "id": "0f11ce79",
   "metadata": {},
   "outputs": [
    {
     "data": {
      "text/plain": [
       "<class 'netCDF4._netCDF4.Variable'>\n",
       "float64 GDP_2015(latitude, longitude)\n",
       "    _FillValue: nan\n",
       "    long_name: Fraction of cropland\n",
       "    units: -\n",
       "unlimited dimensions: \n",
       "current shape = (721, 1440)\n",
       "filling on"
      ]
     },
     "execution_count": 4,
     "metadata": {},
     "output_type": "execute_result"
    }
   ],
   "source": [
    "nc = Dataset(dire)\n",
    "nc.variables[\"GDP_2015\"]"
   ]
  },
  {
   "cell_type": "code",
   "execution_count": 5,
   "id": "e59fbc36",
   "metadata": {},
   "outputs": [],
   "source": [
    "var = nc.variables[\"GDP_2015\"][:]"
   ]
  },
  {
   "cell_type": "code",
   "execution_count": 8,
   "id": "6198f11b",
   "metadata": {},
   "outputs": [
    {
     "data": {
      "text/plain": [
       "7757.42129736017"
      ]
     },
     "execution_count": 8,
     "metadata": {},
     "output_type": "execute_result"
    }
   ],
   "source": [
    "var.sum()/1000000"
   ]
  },
  {
   "cell_type": "code",
   "execution_count": 9,
   "id": "2901a293",
   "metadata": {},
   "outputs": [
    {
     "ename": "NameError",
     "evalue": "name 'xr' is not defined",
     "output_type": "error",
     "traceback": [
      "\u001b[0;31m---------------------------------------------------------------------------\u001b[0m",
      "\u001b[0;31mNameError\u001b[0m                                 Traceback (most recent call last)",
      "Cell \u001b[0;32mIn [9], line 3\u001b[0m\n\u001b[1;32m      1\u001b[0m lon \u001b[38;5;241m=\u001b[39m  nc\u001b[38;5;241m.\u001b[39mvariables[\u001b[38;5;124m\"\u001b[39m\u001b[38;5;124mlongitude\u001b[39m\u001b[38;5;124m\"\u001b[39m][:]\n\u001b[1;32m      2\u001b[0m lat \u001b[38;5;241m=\u001b[39m  nc\u001b[38;5;241m.\u001b[39mvariables[\u001b[38;5;124m\"\u001b[39m\u001b[38;5;124mlatitude\u001b[39m\u001b[38;5;124m\"\u001b[39m][:]\n\u001b[0;32m----> 3\u001b[0m xarlon \u001b[38;5;241m=\u001b[39m \u001b[43mxr\u001b[49m\u001b[38;5;241m.\u001b[39mIndexVariable(\u001b[38;5;124m\"\u001b[39m\u001b[38;5;124mlongitude\u001b[39m\u001b[38;5;124m\"\u001b[39m, lon, attrs\u001b[38;5;241m=\u001b[39m{\u001b[38;5;124m\"\u001b[39m\u001b[38;5;124munit\u001b[39m\u001b[38;5;124m\"\u001b[39m:\u001b[38;5;124m\"\u001b[39m\u001b[38;5;124mdegrees_east\u001b[39m\u001b[38;5;124m\"\u001b[39m,\u001b[38;5;124m\"\u001b[39m\u001b[38;5;124mstandard_name\u001b[39m\u001b[38;5;124m\"\u001b[39m: \u001b[38;5;124m\"\u001b[39m\u001b[38;5;124mlongitude\u001b[39m\u001b[38;5;124m\"\u001b[39m, \u001b[38;5;124m\"\u001b[39m\u001b[38;5;124mlong_name\u001b[39m\u001b[38;5;124m\"\u001b[39m : \u001b[38;5;124m\"\u001b[39m\u001b[38;5;124mlongitude\u001b[39m\u001b[38;5;124m\"\u001b[39m, \u001b[38;5;124m\"\u001b[39m\u001b[38;5;124maxis\u001b[39m\u001b[38;5;124m\"\u001b[39m:\u001b[38;5;124m\"\u001b[39m\u001b[38;5;124mX\u001b[39m\u001b[38;5;124m\"\u001b[39m})\n\u001b[1;32m      4\u001b[0m xarlat \u001b[38;5;241m=\u001b[39m xr\u001b[38;5;241m.\u001b[39mIndexVariable(\u001b[38;5;124m\"\u001b[39m\u001b[38;5;124mlatitude\u001b[39m\u001b[38;5;124m\"\u001b[39m, lat, attrs\u001b[38;5;241m=\u001b[39m{\u001b[38;5;124m\"\u001b[39m\u001b[38;5;124munit\u001b[39m\u001b[38;5;124m\"\u001b[39m:\u001b[38;5;124m\"\u001b[39m\u001b[38;5;124mdegrees_north\u001b[39m\u001b[38;5;124m\"\u001b[39m,\u001b[38;5;124m\"\u001b[39m\u001b[38;5;124mstandard_name\u001b[39m\u001b[38;5;124m\"\u001b[39m: \u001b[38;5;124m\"\u001b[39m\u001b[38;5;124mlatitude\u001b[39m\u001b[38;5;124m\"\u001b[39m, \u001b[38;5;124m\"\u001b[39m\u001b[38;5;124mlong_name\u001b[39m\u001b[38;5;124m\"\u001b[39m : \u001b[38;5;124m\"\u001b[39m\u001b[38;5;124mlatitude\u001b[39m\u001b[38;5;124m\"\u001b[39m, \u001b[38;5;124m\"\u001b[39m\u001b[38;5;124maxis\u001b[39m\u001b[38;5;124m\"\u001b[39m:\u001b[38;5;124m\"\u001b[39m\u001b[38;5;124mY\u001b[39m\u001b[38;5;124m\"\u001b[39m})   \n",
      "\u001b[0;31mNameError\u001b[0m: name 'xr' is not defined"
     ]
    }
   ],
   "source": [
    "lon =  nc.variables[\"longitude\"][:]\n",
    "lat =  nc.variables[\"latitude\"][:]\n",
    "xarlon = xr.IndexVariable(\"longitude\", lon, attrs={\"unit\":\"degrees_east\",\"standard_name\": \"longitude\", \"long_name\" : \"longitude\", \"axis\":\"X\"})\n",
    "xarlat = xr.IndexVariable(\"latitude\", lat, attrs={\"unit\":\"degrees_north\",\"standard_name\": \"latitude\", \"long_name\" : \"latitude\", \"axis\":\"Y\"})   "
   ]
  },
  {
   "cell_type": "code",
   "execution_count": null,
   "id": "70b3c940",
   "metadata": {},
   "outputs": [],
   "source": [
    "d_out_file = \"/home/aschrapffer/Documents/tiff2netcdf/Cases/POP_ERA5/Output/POP_2020_ERA5.nc\""
   ]
  },
  {
   "cell_type": "code",
   "execution_count": null,
   "id": "b60cae00",
   "metadata": {},
   "outputs": [],
   "source": [
    "\n",
    "ds = xr.Dataset({\n",
    "        \"POP_2020\": xr.DataArray(\n",
    "            data   = var,\n",
    "            dims   = ['latitude',\"longitude\"],\n",
    "            coords = {'latitude':xarlat,\"longitude\":xarlon},\n",
    "            attrs  = {\"long_name\":f\"POPULATION 2020\", 'units': '-'},\n",
    "            )},\n",
    "        attrs = {})\n",
    "ds.to_netcdf(d_out_file)\n",
    "ds.close()"
   ]
  }
 ],
 "metadata": {
  "kernelspec": {
   "display_name": "Python 3 (ipykernel)",
   "language": "python",
   "name": "python3"
  },
  "language_info": {
   "codemirror_mode": {
    "name": "ipython",
    "version": 3
   },
   "file_extension": ".py",
   "mimetype": "text/x-python",
   "name": "python",
   "nbconvert_exporter": "python",
   "pygments_lexer": "ipython3",
   "version": "3.10.0"
  }
 },
 "nbformat": 4,
 "nbformat_minor": 5
}
